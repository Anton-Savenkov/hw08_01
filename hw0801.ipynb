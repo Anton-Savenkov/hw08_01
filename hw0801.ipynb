{
 "cells": [
  {
   "cell_type": "markdown",
   "id": "258b84e8-c3be-4c1c-b19a-ec8194dd2029",
   "metadata": {},
   "source": [
    "#### Задание - Обучите нейронную сеть любой архитектуры на каком-то производственном датасете. Сделайте анализ того, что вам помогло в улучшения работы нейронной сети."
   ]
  },
  {
   "cell_type": "markdown",
   "id": "42189a6e-c0e1-4386-a7cf-e58ddc1e4d51",
   "metadata": {},
   "source": [
    "- для решения задачи используем датасет Северстали /severstal-steel-defect-detection/"
   ]
  },
  {
   "cell_type": "markdown",
   "id": "83c9144a-2c0b-4932-80e8-5fc5f2322b6f",
   "metadata": {},
   "source": [
    "#### Этап 1. Подготовка окружения"
   ]
  },
  {
   "cell_type": "code",
   "execution_count": 39,
   "id": "23d87e6f-0ea3-47a6-97dd-a043c6ec4b5e",
   "metadata": {},
   "outputs": [],
   "source": [
    "import pandas as pd\n",
    "import os\n",
    "import matplotlib.pyplot as plt\n",
    "import tensorflow as tf\n",
    "from tensorflow import keras\n",
    "import numpy as np\n",
    "import cv2\n",
    "from sklearn.model_selection import train_test_split\n",
    "from sklearn.preprocessing import MinMaxScaler"
   ]
  },
  {
   "cell_type": "code",
   "execution_count": 40,
   "id": "9c5a2bdd-0bb2-4b43-b4b9-fb329ef770d8",
   "metadata": {},
   "outputs": [],
   "source": [
    "# Загрузка датаасета\n",
    "dataset_path = \"data/sample_submission.csv\"\n",
    "df = pd.read_csv(dataset_path)"
   ]
  },
  {
   "cell_type": "code",
   "execution_count": 41,
   "id": "d129fd76-c082-4e44-9d6d-9ffec955e097",
   "metadata": {},
   "outputs": [
    {
     "name": "stdout",
     "output_type": "stream",
     "text": [
      "Dataset shape: (5506, 3)\n",
      "Columns: Index(['ImageId', 'EncodedPixels', 'ClassId'], dtype='object')\n",
      "First few rows:\n",
      "         ImageId EncodedPixels  ClassId\n",
      "0  0000f269f.jpg      1 409600        0\n",
      "1  000ccc2ac.jpg      1 409600        0\n",
      "2  002451917.jpg      1 409600        0\n",
      "3  003c5da97.jpg      1 409600        0\n",
      "4  0042e163f.jpg      1 409600        0\n"
     ]
    }
   ],
   "source": [
    "# Просмотр структуры\n",
    "print(\"Dataset shape:\", df.shape)\n",
    "print(\"Columns:\", df.columns)\n",
    "print(\"First few rows:\")\n",
    "print(df.head())"
   ]
  },
  {
   "cell_type": "markdown",
   "id": "65652b4d-fafb-4850-a31f-86d0870e0d3f",
   "metadata": {},
   "source": [
    "#### Этап 2: Обработка данных"
   ]
  },
  {
   "cell_type": "code",
   "execution_count": 42,
   "id": "fa225f4e-af14-48c3-b632-ee1e20ab8723",
   "metadata": {},
   "outputs": [],
   "source": [
    "# предварительная обработка данных\n",
    "data_folder = \"data\"\n",
    "train_csv_path = os.path.join(data_folder, \"train.csv\")\n",
    "train_images_folder = os.path.join(data_folder, \"train_images\")"
   ]
  },
  {
   "cell_type": "code",
   "execution_count": 43,
   "id": "eb1f3534-1faa-496a-a471-81cc1bb6b057",
   "metadata": {},
   "outputs": [],
   "source": [
    "# загрузка .csv файла\n",
    "train_df = pd.read_csv(train_csv_path)\n",
    "# обаботка данных в том  числе уменьшение выборки\n",
    "train_df_sample = train_df.sample(n=1000, random_state=42) "
   ]
  },
  {
   "cell_type": "code",
   "execution_count": 44,
   "id": "40654415-f25f-43c0-be43-574c6a615d0e",
   "metadata": {},
   "outputs": [],
   "source": [
    "# подготова данных для передачи\n",
    "\n",
    "# определение функцию для чтения\n",
    "def load_and_preprocess_image(image_id):\n",
    "    image_path = os.path.join(train_images_folder, image_id)\n",
    "    image = cv2.imread(image_path)\n",
    "    image = cv2.cvtColor(image, cv2.COLOR_BGR2RGB)  # Convert to RGB\n",
    "    image = cv2.resize(image, (224, 224))  # Resize to desired dimensions\n",
    "    image = image / 255.0  # Normalize pixel values\n",
    "    return image\n",
    "\n",
    "# загрузка  изображеений\n",
    "X = np.array([load_and_preprocess_image(image_id) for image_id in train_df_sample['ImageId']])\n",
    "y = train_df_sample['ClassId'].values\n"
   ]
  },
  {
   "cell_type": "code",
   "execution_count": 45,
   "id": "068623b7-e05d-4062-b197-6c14cf349619",
   "metadata": {},
   "outputs": [],
   "source": [
    "# Разделение данных на обучающие и тестовые выборки\n",
    "X_train, X_test, y_train, y_test = train_test_split(X, y, test_size=0.2, random_state=42)"
   ]
  },
  {
   "cell_type": "code",
   "execution_count": 46,
   "id": "2839e588-f706-41f5-b470-4ea7da923bc5",
   "metadata": {},
   "outputs": [
    {
     "name": "stdout",
     "output_type": "stream",
     "text": [
      "X_train shape: (800, 224, 224, 3)\n",
      "X_test shape: (200, 224, 224, 3)\n",
      "y_train shape: (800,)\n",
      "y_test shape: (200,)\n"
     ]
    }
   ],
   "source": [
    "# проверка тестовых и обучающих выборок\n",
    "print(\"X_train shape:\", X_train.shape)\n",
    "print(\"X_test shape:\", X_test.shape)\n",
    "print(\"y_train shape:\", y_train.shape)\n",
    "print(\"y_test shape:\", y_test.shape)"
   ]
  },
  {
   "cell_type": "markdown",
   "id": "36e1fa14-22e2-4353-ba39-778ea69f8c52",
   "metadata": {},
   "source": [
    "#### Этап 3: Создание модели"
   ]
  },
  {
   "cell_type": "code",
   "execution_count": 47,
   "id": "33a19279-f2c0-40f3-bef2-4fb52e694639",
   "metadata": {},
   "outputs": [],
   "source": [
    "from tensorflow.keras.applications import ResNet50\n",
    "from tensorflow.keras.models import Sequential\n",
    "from tensorflow.keras.layers import Dense, GlobalAveragePooling2D"
   ]
  },
  {
   "cell_type": "code",
   "execution_count": 48,
   "id": "77310fe0-3cec-439f-81a2-51b860df3653",
   "metadata": {},
   "outputs": [],
   "source": [
    "# загрузка  предобученной модели\n",
    "pretrained_model = ResNet50(weights='imagenet', include_top=False, input_shape=(224, 224, 3))"
   ]
  },
  {
   "cell_type": "code",
   "execution_count": 49,
   "id": "5b7f7627-7785-49fc-bc42-ff14525796f3",
   "metadata": {},
   "outputs": [],
   "source": [
    "# создание модели\n",
    "model = Sequential()"
   ]
  },
  {
   "cell_type": "code",
   "execution_count": 50,
   "id": "efbff966-7fde-438e-b881-2a78a6533af6",
   "metadata": {},
   "outputs": [],
   "source": [
    "# добавление предобученной модели ResNet50\n",
    "model.add(pretrained_model)"
   ]
  },
  {
   "cell_type": "code",
   "execution_count": 51,
   "id": "70379d02-6db5-449b-bb41-48a31bacef10",
   "metadata": {},
   "outputs": [],
   "source": [
    "# глобальный средний слой\n",
    "model.add(GlobalAveragePooling2D())"
   ]
  },
  {
   "cell_type": "code",
   "execution_count": 52,
   "id": "281595b7-0ad2-4932-81c5-a918ea10a9ea",
   "metadata": {},
   "outputs": [],
   "source": [
    "# выходной слой\n",
    "model.add(Dense(4, activation='softmax'))  # Assuming there are 4 classes"
   ]
  },
  {
   "cell_type": "code",
   "execution_count": 53,
   "id": "c71ac0db-245a-44f4-a4ef-10f19300c220",
   "metadata": {},
   "outputs": [],
   "source": [
    "# заморозка предварительно обученных слоев\n",
    "for layer in pretrained_model.layers:\n",
    "    layer.trainable = False"
   ]
  },
  {
   "cell_type": "code",
   "execution_count": 54,
   "id": "93bbaafc-1af3-48a3-a551-e970c085f0f9",
   "metadata": {},
   "outputs": [],
   "source": [
    "# компиляция модели\n",
    "model.compile(optimizer='adam', loss='sparse_categorical_crossentropy', metrics=['accuracy'])"
   ]
  },
  {
   "cell_type": "code",
   "execution_count": 55,
   "id": "51127813-6717-42fb-b2d1-0621965c7b09",
   "metadata": {},
   "outputs": [
    {
     "data": {
      "text/html": [
       "<pre style=\"white-space:pre;overflow-x:auto;line-height:normal;font-family:Menlo,'DejaVu Sans Mono',consolas,'Courier New',monospace\"><span style=\"font-weight: bold\">Model: \"sequential_1\"</span>\n",
       "</pre>\n"
      ],
      "text/plain": [
       "\u001b[1mModel: \"sequential_1\"\u001b[0m\n"
      ]
     },
     "metadata": {},
     "output_type": "display_data"
    },
    {
     "data": {
      "text/html": [
       "<pre style=\"white-space:pre;overflow-x:auto;line-height:normal;font-family:Menlo,'DejaVu Sans Mono',consolas,'Courier New',monospace\">┏━━━━━━━━━━━━━━━━━━━━━━━━━━━━━━━━━┳━━━━━━━━━━━━━━━━━━━━━━━━┳━━━━━━━━━━━━━━━┓\n",
       "┃<span style=\"font-weight: bold\"> Layer (type)                    </span>┃<span style=\"font-weight: bold\"> Output Shape           </span>┃<span style=\"font-weight: bold\">       Param # </span>┃\n",
       "┡━━━━━━━━━━━━━━━━━━━━━━━━━━━━━━━━━╇━━━━━━━━━━━━━━━━━━━━━━━━╇━━━━━━━━━━━━━━━┩\n",
       "│ resnet50 (<span style=\"color: #0087ff; text-decoration-color: #0087ff\">Functional</span>)           │ ?                      │    <span style=\"color: #00af00; text-decoration-color: #00af00\">23,587,712</span> │\n",
       "├─────────────────────────────────┼────────────────────────┼───────────────┤\n",
       "│ global_average_pooling2d_1      │ ?                      │   <span style=\"color: #00af00; text-decoration-color: #00af00\">0</span> (unbuilt) │\n",
       "│ (<span style=\"color: #0087ff; text-decoration-color: #0087ff\">GlobalAveragePooling2D</span>)        │                        │               │\n",
       "├─────────────────────────────────┼────────────────────────┼───────────────┤\n",
       "│ dense_1 (<span style=\"color: #0087ff; text-decoration-color: #0087ff\">Dense</span>)                 │ ?                      │   <span style=\"color: #00af00; text-decoration-color: #00af00\">0</span> (unbuilt) │\n",
       "└─────────────────────────────────┴────────────────────────┴───────────────┘\n",
       "</pre>\n"
      ],
      "text/plain": [
       "┏━━━━━━━━━━━━━━━━━━━━━━━━━━━━━━━━━┳━━━━━━━━━━━━━━━━━━━━━━━━┳━━━━━━━━━━━━━━━┓\n",
       "┃\u001b[1m \u001b[0m\u001b[1mLayer (type)                   \u001b[0m\u001b[1m \u001b[0m┃\u001b[1m \u001b[0m\u001b[1mOutput Shape          \u001b[0m\u001b[1m \u001b[0m┃\u001b[1m \u001b[0m\u001b[1m      Param #\u001b[0m\u001b[1m \u001b[0m┃\n",
       "┡━━━━━━━━━━━━━━━━━━━━━━━━━━━━━━━━━╇━━━━━━━━━━━━━━━━━━━━━━━━╇━━━━━━━━━━━━━━━┩\n",
       "│ resnet50 (\u001b[38;5;33mFunctional\u001b[0m)           │ ?                      │    \u001b[38;5;34m23,587,712\u001b[0m │\n",
       "├─────────────────────────────────┼────────────────────────┼───────────────┤\n",
       "│ global_average_pooling2d_1      │ ?                      │   \u001b[38;5;34m0\u001b[0m (unbuilt) │\n",
       "│ (\u001b[38;5;33mGlobalAveragePooling2D\u001b[0m)        │                        │               │\n",
       "├─────────────────────────────────┼────────────────────────┼───────────────┤\n",
       "│ dense_1 (\u001b[38;5;33mDense\u001b[0m)                 │ ?                      │   \u001b[38;5;34m0\u001b[0m (unbuilt) │\n",
       "└─────────────────────────────────┴────────────────────────┴───────────────┘\n"
      ]
     },
     "metadata": {},
     "output_type": "display_data"
    },
    {
     "data": {
      "text/html": [
       "<pre style=\"white-space:pre;overflow-x:auto;line-height:normal;font-family:Menlo,'DejaVu Sans Mono',consolas,'Courier New',monospace\"><span style=\"font-weight: bold\"> Total params: </span><span style=\"color: #00af00; text-decoration-color: #00af00\">23,587,712</span> (89.98 MB)\n",
       "</pre>\n"
      ],
      "text/plain": [
       "\u001b[1m Total params: \u001b[0m\u001b[38;5;34m23,587,712\u001b[0m (89.98 MB)\n"
      ]
     },
     "metadata": {},
     "output_type": "display_data"
    },
    {
     "data": {
      "text/html": [
       "<pre style=\"white-space:pre;overflow-x:auto;line-height:normal;font-family:Menlo,'DejaVu Sans Mono',consolas,'Courier New',monospace\"><span style=\"font-weight: bold\"> Trainable params: </span><span style=\"color: #00af00; text-decoration-color: #00af00\">0</span> (0.00 B)\n",
       "</pre>\n"
      ],
      "text/plain": [
       "\u001b[1m Trainable params: \u001b[0m\u001b[38;5;34m0\u001b[0m (0.00 B)\n"
      ]
     },
     "metadata": {},
     "output_type": "display_data"
    },
    {
     "data": {
      "text/html": [
       "<pre style=\"white-space:pre;overflow-x:auto;line-height:normal;font-family:Menlo,'DejaVu Sans Mono',consolas,'Courier New',monospace\"><span style=\"font-weight: bold\"> Non-trainable params: </span><span style=\"color: #00af00; text-decoration-color: #00af00\">23,587,712</span> (89.98 MB)\n",
       "</pre>\n"
      ],
      "text/plain": [
       "\u001b[1m Non-trainable params: \u001b[0m\u001b[38;5;34m23,587,712\u001b[0m (89.98 MB)\n"
      ]
     },
     "metadata": {},
     "output_type": "display_data"
    }
   ],
   "source": [
    "# сводка по модели\n",
    "model.summary()"
   ]
  },
  {
   "cell_type": "markdown",
   "id": "fabf8a3b-0842-4eb9-bee2-84a74be9bb83",
   "metadata": {},
   "source": [
    "#### Этап 4: Обучение модели"
   ]
  },
  {
   "cell_type": "code",
   "execution_count": 57,
   "id": "108dad9f-5267-4086-9839-2831f85b0349",
   "metadata": {},
   "outputs": [
    {
     "name": "stdout",
     "output_type": "stream",
     "text": [
      "Epoch 1/10\n",
      "\u001b[1m25/25\u001b[0m \u001b[32m━━━━━━━━━━━━━━━━━━━━\u001b[0m\u001b[37m\u001b[0m \u001b[1m82s\u001b[0m 3s/step - accuracy: 0.4517 - loss: 1.3547 - val_accuracy: 0.7450 - val_loss: 0.8582\n",
      "Epoch 2/10\n",
      "\u001b[1m25/25\u001b[0m \u001b[32m━━━━━━━━━━━━━━━━━━━━\u001b[0m\u001b[37m\u001b[0m \u001b[1m75s\u001b[0m 3s/step - accuracy: 0.7319 - loss: 0.8690 - val_accuracy: 0.7450 - val_loss: 0.8225\n",
      "Epoch 3/10\n",
      "\u001b[1m25/25\u001b[0m \u001b[32m━━━━━━━━━━━━━━━━━━━━\u001b[0m\u001b[37m\u001b[0m \u001b[1m85s\u001b[0m 3s/step - accuracy: 0.7651 - loss: 0.7877 - val_accuracy: 0.7450 - val_loss: 0.8334\n",
      "Epoch 4/10\n",
      "\u001b[1m25/25\u001b[0m \u001b[32m━━━━━━━━━━━━━━━━━━━━\u001b[0m\u001b[37m\u001b[0m \u001b[1m74s\u001b[0m 3s/step - accuracy: 0.7628 - loss: 0.7824 - val_accuracy: 0.7450 - val_loss: 0.8216\n",
      "Epoch 5/10\n",
      "\u001b[1m25/25\u001b[0m \u001b[32m━━━━━━━━━━━━━━━━━━━━\u001b[0m\u001b[37m\u001b[0m \u001b[1m74s\u001b[0m 3s/step - accuracy: 0.7627 - loss: 0.7911 - val_accuracy: 0.7450 - val_loss: 0.8326\n",
      "Epoch 6/10\n",
      "\u001b[1m25/25\u001b[0m \u001b[32m━━━━━━━━━━━━━━━━━━━━\u001b[0m\u001b[37m\u001b[0m \u001b[1m69s\u001b[0m 3s/step - accuracy: 0.7416 - loss: 0.8377 - val_accuracy: 0.7450 - val_loss: 0.8391\n",
      "Epoch 7/10\n",
      "\u001b[1m25/25\u001b[0m \u001b[32m━━━━━━━━━━━━━━━━━━━━\u001b[0m\u001b[37m\u001b[0m \u001b[1m69s\u001b[0m 3s/step - accuracy: 0.7651 - loss: 0.7909 - val_accuracy: 0.7450 - val_loss: 0.8218\n",
      "Epoch 8/10\n",
      "\u001b[1m25/25\u001b[0m \u001b[32m━━━━━━━━━━━━━━━━━━━━\u001b[0m\u001b[37m\u001b[0m \u001b[1m73s\u001b[0m 3s/step - accuracy: 0.7634 - loss: 0.7894 - val_accuracy: 0.7450 - val_loss: 0.8354\n",
      "Epoch 9/10\n",
      "\u001b[1m25/25\u001b[0m \u001b[32m━━━━━━━━━━━━━━━━━━━━\u001b[0m\u001b[37m\u001b[0m \u001b[1m78s\u001b[0m 3s/step - accuracy: 0.7216 - loss: 0.8769 - val_accuracy: 0.7450 - val_loss: 0.8295\n",
      "Epoch 10/10\n",
      "\u001b[1m25/25\u001b[0m \u001b[32m━━━━━━━━━━━━━━━━━━━━\u001b[0m\u001b[37m\u001b[0m \u001b[1m76s\u001b[0m 3s/step - accuracy: 0.7402 - loss: 0.8118 - val_accuracy: 0.7450 - val_loss: 0.8203\n"
     ]
    }
   ],
   "source": [
    "#значения меток в дата сете начинаются с 0\n",
    "y_train -= 1\n",
    "y_test -= 1\n",
    "\n",
    "# обучение на подготовленных данных\n",
    "history = model.fit(X_train, y_train, epochs=10, batch_size=32, validation_data=(X_test, y_test), verbose=1)"
   ]
  },
  {
   "cell_type": "code",
   "execution_count": 58,
   "id": "9bb2d757-8fea-4db9-9779-3618fce62fe0",
   "metadata": {},
   "outputs": [
    {
     "name": "stdout",
     "output_type": "stream",
     "text": [
      "Training Loss: 0.8240540027618408\n",
      "Training Accuracy: 0.7400000095367432\n",
      "Test Loss: 0.8202813863754272\n",
      "Test Accuracy: 0.7450000047683716\n"
     ]
    }
   ],
   "source": [
    "# оценка процесса обучения\n",
    "train_loss, train_accuracy = model.evaluate(X_train, y_train, verbose=0)\n",
    "test_loss, test_accuracy = model.evaluate(X_test, y_test, verbose=0)\n",
    "\n",
    "print(\"Training Loss:\", train_loss)\n",
    "print(\"Training Accuracy:\", train_accuracy)\n",
    "print(\"Test Loss:\", test_loss)\n",
    "print(\"Test Accuracy:\", test_accuracy)"
   ]
  },
  {
   "cell_type": "code",
   "execution_count": 59,
   "id": "e554392d-4a51-4f8d-a765-6a5f34aad11b",
   "metadata": {},
   "outputs": [
    {
     "data": {
      "image/png": "[encoded data removed]",
      "text/plain": [
       "<Figure size 640x480 with 1 Axes>"
      ]
     },
     "metadata": {},
     "output_type": "display_data"
    }
   ],
   "source": [
    "# точность проверки по эпохам\n",
    "plt.plot(history.history['accuracy'], label='Training Accuracy')\n",
    "plt.plot(history.history['val_accuracy'], label='Validation Accuracy')\n",
    "plt.xlabel('Epoch')\n",
    "plt.ylabel('Accuracy')\n",
    "plt.legend()\n",
    "plt.show()"
   ]
  },
  {
   "cell_type": "code",
   "execution_count": 60,
   "id": "27590cfe-e1fa-4987-9382-4998279231b5",
   "metadata": {},
   "outputs": [
    {
     "data": {
      "image/png": "[encoded data removed]",
      "text/plain": [
       "<Figure size 640x480 with 1 Axes>"
      ]
     },
     "metadata": {},
     "output_type": "display_data"
    }
   ],
   "source": [
    "# график потерь по эпохам\n",
    "plt.plot(history.history['loss'], label='Training Loss')\n",
    "plt.plot(history.history['val_loss'], label='Validation Loss')\n",
    "plt.xlabel('Epoch')\n",
    "plt.ylabel('Loss')\n",
    "plt.legend()\n",
    "plt.show()"
   ]
  },
  {
   "cell_type": "markdown",
   "id": "d0395bf9-55a2-474e-890e-96f069575944",
   "metadata": {},
   "source": [
    "### Этап 5: Анализ результатов и выводы ###"
   ]
  },
  {
   "cell_type": "code",
   "execution_count": 61,
   "id": "98ffffde-a18b-4e31-a9e9-f92755a84bd1",
   "metadata": {},
   "outputs": [
    {
     "name": "stdout",
     "output_type": "stream",
     "text": [
      "Test Loss: 0.8202813863754272\n",
      "Test Accuracy: 0.7450000047683716\n"
     ]
    }
   ],
   "source": [
    "# 1. Оценим производительность нейросети на тестовой выборке\n",
    "test_loss, test_accuracy = model.evaluate(X_test, y_test, verbose=0)\n",
    "print(\"Test Loss:\", test_loss)\n",
    "print(\"Test Accuracy:\", test_accuracy)"
   ]
  },
  {
   "cell_type": "markdown",
   "id": "0da86fe1-4012-4c5f-8a7c-6146802c4902",
   "metadata": {},
   "source": [
    "### На основании результатов оценки, нейронная сеть достигла тестовой потери около 0,82 и тестовой точности примерно 74,5%. Это свидетельствует о том, что модель вполне хорошо справляется с классификацией дефектов на изображениях стали из набора данных Северстали.\n",
    "\n",
    "#### Однако есть место для улучшений. Дальнейший анализ кривых обучения и валидации может раскрыть проблемы с переобучением или недообучением. Кроме того, эксперименты с различными архитектурами, гиперпараметрами могут улучшить производительность модели.\n",
    "\n",
    " #### В заключение, хотя текущая модель демонстрирует приемлемую производительность, существуют возможности для улучшения с целью достижения еще более высокой точности и надежности в обнаружении дефектов. Последующая оптимизация может привести к дальнейшему улучшению качества и эффективности модели."
   ]
  },
  {
   "cell_type": "code",
   "execution_count": null,
   "id": "ed2903f8-0ed2-47e2-be86-4611b7fcb1c3",
   "metadata": {},
   "outputs": [],
   "source": []
  }
 ],
 "metadata": {
  "kernelspec": {
   "display_name": "Python 3 (ipykernel)",
   "language": "python",
   "name": "python3"
  },
  "language_info": {
   "codemirror_mode": {
    "name": "ipython",
    "version": 3
   },
   "file_extension": ".py",
   "mimetype": "text/x-python",
   "name": "python",
   "nbconvert_exporter": "python",
   "pygments_lexer": "ipython3",
   "version": "3.9.13"
  }
 },
 "nbformat": 4,
 "nbformat_minor": 5
}
